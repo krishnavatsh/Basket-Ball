{
  "nbformat": 4,
  "nbformat_minor": 0,
  "metadata": {
    "colab": {
      "name": "Class  97.ipynb",
      "provenance": [],
      "authorship_tag": "ABX9TyOPCUPa4PSvSZ45JgQU7Vy8",
      "include_colab_link": true
    },
    "kernelspec": {
      "name": "python3",
      "display_name": "Python 3"
    },
    "language_info": {
      "name": "python"
    }
  },
  "cells": [
    {
      "cell_type": "markdown",
      "metadata": {
        "id": "view-in-github",
        "colab_type": "text"
      },
      "source": [
        "<a href=\"https://colab.research.google.com/github/krishnavatsh/Basket-Ball/blob/main/Class_97.ipynb\" target=\"_parent\"><img src=\"https://colab.research.google.com/assets/colab-badge.svg\" alt=\"Open In Colab\"/></a>"
      ]
    },
    {
      "cell_type": "code",
      "execution_count": null,
      "metadata": {
        "id": "ttyJRNrFhoCQ"
      },
      "outputs": [],
      "source": [
        ""
      ]
    },
    {
      "cell_type": "markdown",
      "source": [
        "Indroduction of Python "
      ],
      "metadata": {
        "id": "iHvNltTshsir"
      }
    },
    {
      "cell_type": "code",
      "source": [
        "print('color')"
      ],
      "metadata": {
        "colab": {
          "base_uri": "https://localhost:8080/"
        },
        "id": "Wu4zlfK_h6I8",
        "outputId": "67bf6c3d-207e-402b-d30b-638d2de40bd8"
      },
      "execution_count": 1,
      "outputs": [
        {
          "output_type": "stream",
          "name": "stdout",
          "text": [
            "color\n"
          ]
        }
      ]
    },
    {
      "cell_type": "code",
      "source": [
        "print('hello' , '1' , 3)"
      ],
      "metadata": {
        "colab": {
          "base_uri": "https://localhost:8080/"
        },
        "id": "xpOgjti0iODB",
        "outputId": "aa7f061e-6991-4564-abd8-5f785cd0a167"
      },
      "execution_count": 2,
      "outputs": [
        {
          "output_type": "stream",
          "name": "stdout",
          "text": [
            "hello 1 3\n"
          ]
        }
      ]
    },
    {
      "cell_type": "code",
      "source": [
        "#celsious to Fahrenheit \n",
        "cel = float(input('Enter Temp in Celsious '))\n",
        "Fah = cel*(9/5 ) + 32\n",
        "print('Temp in Fahrenheit ' , Fah)"
      ],
      "metadata": {
        "colab": {
          "base_uri": "https://localhost:8080/"
        },
        "id": "tazMFcgvjd8r",
        "outputId": "c74cfe35-7556-41b6-bb03-fd841ce8fed9"
      },
      "execution_count": 5,
      "outputs": [
        {
          "output_type": "stream",
          "name": "stdout",
          "text": [
            "Enter Temp in Celsious 32.5\n",
            "Temp in Fahrenheit  90.5\n"
          ]
        }
      ]
    },
    {
      "cell_type": "code",
      "source": [
        ""
      ],
      "metadata": {
        "id": "5LMde0ddlSgK"
      },
      "execution_count": null,
      "outputs": []
    },
    {
      "cell_type": "code",
      "source": [
        "def converter(c):\n",
        "  Fah = c*(9/5 ) + 32\n",
        "  return Fah\n",
        "\n",
        "cel = float(input('Enter Temp in Celsious '))\n",
        "print(converter(cel))"
      ],
      "metadata": {
        "colab": {
          "base_uri": "https://localhost:8080/"
        },
        "id": "f50WdY3ilVwT",
        "outputId": "5b59aa72-f2be-458b-ba72-da10326e509d"
      },
      "execution_count": 6,
      "outputs": [
        {
          "output_type": "stream",
          "name": "stdout",
          "text": [
            "Enter Temp in Celsious 32.5\n",
            "90.5\n"
          ]
        }
      ]
    },
    {
      "cell_type": "markdown",
      "source": [
        "Calculator"
      ],
      "metadata": {
        "id": "6y2xDZ-Hm_TG"
      }
    },
    {
      "cell_type": "code",
      "source": [
        "def add(x,y):\n",
        "  return x+y\n",
        "\n",
        "def subtract(x,y):\n",
        "  return x-y\n",
        "\n",
        "def calculate(option):\n",
        "  if(option=='1' or option=='2'):\n",
        "    num1 = float(input('Enter the First Number '))\n",
        "    num2 = float(input('Enter the Second Number '))\n",
        "    if(option=='1'):\n",
        "      print('sum',num1 , '+' , num2 , '=' , add(num1 , num2))\n",
        "    elif(option=='2'):\n",
        "      print('difference',num1 , '-' , num2 , '=' , subtract(num1 , num2))\n",
        "  else:\n",
        "    print('Invalid Input')\n",
        "\n",
        "print('Choose the operations from below ')\n",
        "\n",
        "print('1. add ')\n",
        "print('2. subtract ')\n",
        "\n",
        "Option = input('Enter option number 1/2 ')\n",
        "calculate(Option)"
      ],
      "metadata": {
        "colab": {
          "base_uri": "https://localhost:8080/"
        },
        "id": "xqB7ULHJnCiv",
        "outputId": "69a88ef2-8ef4-4850-bb63-074546cd6291"
      },
      "execution_count": 8,
      "outputs": [
        {
          "output_type": "stream",
          "name": "stdout",
          "text": [
            "Choose the operations from below \n",
            "1. add \n",
            "2. subtract \n",
            "Enter option number 1/2 2\n",
            "Enter the First Number 5\n",
            "Enter the Second Number 2\n",
            "difference 5.0 - 2.0 = 3.0\n"
          ]
        }
      ]
    }
  ]
}