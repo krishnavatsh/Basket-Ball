{
  "nbformat": 4,
  "nbformat_minor": 0,
  "metadata": {
    "colab": {
      "provenance": [],
      "include_colab_link": true
    },
    "kernelspec": {
      "name": "python3",
      "display_name": "Python 3"
    },
    "language_info": {
      "name": "python"
    }
  },
  "cells": [
    {
      "cell_type": "markdown",
      "metadata": {
        "id": "view-in-github",
        "colab_type": "text"
      },
      "source": [
        "<a href=\"https://colab.research.google.com/github/krishnavatsh/Basket-Ball/blob/main/Class100.ipynb\" target=\"_parent\"><img src=\"https://colab.research.google.com/assets/colab-badge.svg\" alt=\"Open In Colab\"/></a>"
      ]
    },
    {
      "cell_type": "code",
      "execution_count": null,
      "metadata": {
        "id": "8ga4HxOIr51j"
      },
      "outputs": [],
      "source": []
    },
    {
      "cell_type": "markdown",
      "source": [
        "# **Classes in python** ⭐"
      ],
      "metadata": {
        "id": "k0u5Eeyqr6mA"
      }
    },
    {
      "cell_type": "code",
      "source": [
        "class Contact_Details:\n",
        "  def __init__(self,name,mobile_number,email,address):\n",
        "    self.contact_name= name\n",
        "    self.contact_number=mobile_number\n",
        "    self.email = email\n",
        "    self.contact_address = address\n",
        "\n",
        "    self.person={\n",
        "        \"name\":self.contact_name,\n",
        "        \"mobile\":self.contact_number,\n",
        "        \"email\":self.email,\n",
        "        \"address\":self.contact_address\n",
        "    }\n",
        "\n",
        "  def view_contact_details(self,contact_list):\n",
        "      print(contact_list)\n",
        "\n",
        "  def add_contact_details(self,contact_list):\n",
        "      contact_list.append(self.person)\n",
        "\n",
        "\n",
        "phoneBookList=[]\n",
        "\n",
        "contact1 = Contact_Details(\"Krishna\",8930672334,\"krishna@gmail.com\",\"Sweet Home\")\n",
        "contact1.add_contact_details(phoneBookList)\n",
        "\n",
        "\n",
        "contact2= Contact_Details(\"Shivam\",673290765,\"Shivam@gmail.com\",\"Delhi\")\n",
        "contact2.add_contact_details(phoneBookList)\n",
        "\n",
        "contact2.view_contact_details(phoneBookList)\n",
        "\n",
        "  "
      ],
      "metadata": {
        "colab": {
          "base_uri": "https://localhost:8080/"
        },
        "id": "9GAcsUGNsM4d",
        "outputId": "200e969e-ff70-4181-b20a-d4ac0f493242"
      },
      "execution_count": null,
      "outputs": [
        {
          "output_type": "stream",
          "name": "stdout",
          "text": [
            "[{'name': 'Krishna', 'mobile': 8930672334, 'email': 'krishna@gmail.com', 'address': 'Sweet Home'}, {'name': 'Shivam', 'mobile': 673290765, 'email': 'Shivam@gmail.com', 'address': 'Delhi'}]\n"
          ]
        }
      ]
    }
  ]
}