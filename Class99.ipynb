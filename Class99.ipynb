{
  "nbformat": 4,
  "nbformat_minor": 0,
  "metadata": {
    "colab": {
      "provenance": [],
      "authorship_tag": "ABX9TyOIwdd9mo6phJN3cKpZrtVe",
      "include_colab_link": true
    },
    "kernelspec": {
      "name": "python3",
      "display_name": "Python 3"
    },
    "language_info": {
      "name": "python"
    }
  },
  "cells": [
    {
      "cell_type": "markdown",
      "metadata": {
        "id": "view-in-github",
        "colab_type": "text"
      },
      "source": [
        "<a href=\"https://colab.research.google.com/github/krishnavatsh/Basket-Ball/blob/main/Class99.ipynb\" target=\"_parent\"><img src=\"https://colab.research.google.com/assets/colab-badge.svg\" alt=\"Open In Colab\"/></a>"
      ]
    },
    {
      "cell_type": "code",
      "execution_count": null,
      "metadata": {
        "id": "O1SjLEqogv6i"
      },
      "outputs": [],
      "source": []
    },
    {
      "cell_type": "markdown",
      "source": [
        "Drawing Patterns"
      ],
      "metadata": {
        "id": "_060BjTzg2nT"
      }
    },
    {
      "cell_type": "code",
      "source": [
        "num = int(input(\"Enter the no. of Rows \"))\n",
        "for x in range(0,num):\n",
        "  for y in range(0,x+1):\n",
        "    print(\"star\",end=\" \")\n",
        "  print()  \n"
      ],
      "metadata": {
        "colab": {
          "base_uri": "https://localhost:8080/"
        },
        "id": "65t2QVWDg7c6",
        "outputId": "9134f7db-f0b9-41b7-fd49-b86b1188a0fa"
      },
      "execution_count": 1,
      "outputs": [
        {
          "output_type": "stream",
          "name": "stdout",
          "text": [
            "Enter the no. of Rows 4\n",
            "star \n",
            "star star \n",
            "star star star \n",
            "star star star star \n"
          ]
        }
      ]
    },
    {
      "cell_type": "code",
      "source": [
        "num = int(input(\"Enter the no. of Rows \"))\n",
        "for x in range(0,num):\n",
        "  for y in range(0,x+1):\n",
        "    print(y,end=\" \")\n",
        "  print()  "
      ],
      "metadata": {
        "colab": {
          "base_uri": "https://localhost:8080/"
        },
        "id": "Z4TppA-HiMCq",
        "outputId": "df54930f-e28a-451d-a5ca-a9ccbd8402c5"
      },
      "execution_count": 2,
      "outputs": [
        {
          "output_type": "stream",
          "name": "stdout",
          "text": [
            "Enter the no. of Rows 5\n",
            "0 \n",
            "0 1 \n",
            "0 1 2 \n",
            "0 1 2 3 \n",
            "0 1 2 3 4 \n"
          ]
        }
      ]
    },
    {
      "cell_type": "code",
      "source": [
        "num = int(input(\"Enter the no. of Rows \"))\n",
        "for x in range(1,num+1):\n",
        "  for y in range(1,x+1):\n",
        "    print(y,end=\" \")\n",
        "  print()  "
      ],
      "metadata": {
        "colab": {
          "base_uri": "https://localhost:8080/"
        },
        "id": "upjcPuZeicFd",
        "outputId": "605fd26f-4b92-4cba-f383-c22bd6817adb"
      },
      "execution_count": 4,
      "outputs": [
        {
          "output_type": "stream",
          "name": "stdout",
          "text": [
            "Enter the no. of Rows 4\n",
            "1 \n",
            "1 2 \n",
            "1 2 3 \n",
            "1 2 3 4 \n"
          ]
        }
      ]
    },
    {
      "cell_type": "code",
      "source": [
        "num = int(input(\"Enter the no. of Rows \"))\n",
        "for x in range(0,num):\n",
        "  for y in range(num,x,-1):\n",
        "    print(\"*\",end=\" \")\n",
        "  print()  "
      ],
      "metadata": {
        "colab": {
          "base_uri": "https://localhost:8080/"
        },
        "id": "4-EdpY4Li3lh",
        "outputId": "f6623530-0ecc-46d6-fcb4-197aca69726b"
      },
      "execution_count": 5,
      "outputs": [
        {
          "output_type": "stream",
          "name": "stdout",
          "text": [
            "Enter the no. of Rows 5\n",
            "* * * * * \n",
            "* * * * \n",
            "* * * \n",
            "* * \n",
            "* \n"
          ]
        }
      ]
    },
    {
      "cell_type": "markdown",
      "source": [
        "Project 99\n"
      ],
      "metadata": {
        "id": "UrtXzDUfkcUC"
      }
    },
    {
      "cell_type": "code",
      "source": [
        "name= input(\"Enter Your Name : \")\n",
        "iteration=len(name)\n",
        "for i in range(0,iteration):\n",
        "  for j in range(0,iteration):\n",
        "    if(i==j):\n",
        "      print(name[j],sep=\" \",end=\" \")\n",
        "    else:\n",
        "      print(\"*\" , sep=\" \" , end=\" \")\n",
        "  print()  "
      ],
      "metadata": {
        "colab": {
          "base_uri": "https://localhost:8080/"
        },
        "id": "epFfQvXmkfMc",
        "outputId": "ddbb3cdc-95ea-4f20-d5bd-7de84e50e8a6"
      },
      "execution_count": 7,
      "outputs": [
        {
          "output_type": "stream",
          "name": "stdout",
          "text": [
            "Enter Your Name : KRISHNA\n",
            "K * * * * * * \n",
            "* R * * * * * \n",
            "* * I * * * * \n",
            "* * * S * * * \n",
            "* * * * H * * \n",
            "* * * * * N * \n",
            "* * * * * * A \n"
          ]
        }
      ]
    },
    {
      "cell_type": "code",
      "source": [],
      "metadata": {
        "id": "KzRe35k_lSND"
      },
      "execution_count": null,
      "outputs": []
    }
  ]
}